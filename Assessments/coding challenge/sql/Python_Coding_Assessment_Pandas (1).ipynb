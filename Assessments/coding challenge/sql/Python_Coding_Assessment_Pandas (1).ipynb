{
  "nbformat": 4,
  "nbformat_minor": 0,
  "metadata": {
    "colab": {
      "provenance": []
    },
    "kernelspec": {
      "name": "python3",
      "display_name": "Python 3"
    },
    "language_info": {
      "name": "python"
    }
  },
  "cells": [
    {
      "cell_type": "markdown",
      "source": [
        "#1. Importing Libraries"
      ],
      "metadata": {
        "id": "QrvQwIeBgi3H"
      }
    },
    {
      "cell_type": "code",
      "execution_count": 9,
      "metadata": {
        "id": "XjRkD3ylgeJg"
      },
      "outputs": [],
      "source": [
        "import pandas as pd\n",
        "import numpy as np\n"
      ]
    },
    {
      "cell_type": "markdown",
      "source": [
        "#2. Sample Datasets"
      ],
      "metadata": {
        "id": "g7rehk_HgrRn"
      }
    },
    {
      "cell_type": "code",
      "source": [
        "# Dataset 1: Student Information\n",
        "data1 = {\n",
        "    'StudentID': [101, 102, 103, 104, 105],\n",
        "    'Name': ['Alice', 'Bob', 'Charlie', 'David', 'Eve'],\n",
        "    'Age': [21, 22, np.nan, 24, 25],\n",
        "    'Email': ['alice@example.com', None, 'charlie@abc.com', 'david@xyz.com', 'eve@example.com']\n",
        "}\n",
        "\n",
        "df1 = pd.DataFrame(data1)\n",
        "\n",
        "# Dataset 2: Marks Information\n",
        "data2 = {\n",
        "    'StudentID': [101, 102, 103, 106],\n",
        "    'Marks': [88, 76, 90, 85]\n",
        "}\n",
        "\n",
        "df2 = pd.DataFrame(data2)\n"
      ],
      "metadata": {
        "id": "6g1I298OgqgP"
      },
      "execution_count": 10,
      "outputs": []
    },
    {
      "cell_type": "markdown",
      "source": [
        "#3. Data Cleaning Examples"
      ],
      "metadata": {
        "id": "QdEpf7PUgwlw"
      }
    },
    {
      "cell_type": "markdown",
      "source": [
        "3.1 Checking for Null Values"
      ],
      "metadata": {
        "id": "N7O1pDM2g4Rk"
      }
    },
    {
      "cell_type": "code",
      "source": [
        "print(\"Null values in df1:\\n\", df1.isnull().sum())\n"
      ],
      "metadata": {
        "colab": {
          "base_uri": "https://localhost:8080/"
        },
        "id": "YiHEvi8Tg2R6",
        "outputId": "8520351b-295f-44ce-ecda-742e87b9294f"
      },
      "execution_count": 11,
      "outputs": [
        {
          "output_type": "stream",
          "name": "stdout",
          "text": [
            "Null values in df1:\n",
            " StudentID    0\n",
            "Name         0\n",
            "Age          1\n",
            "Email        1\n",
            "dtype: int64\n"
          ]
        }
      ]
    },
    {
      "cell_type": "markdown",
      "source": [
        "3.2 Show first few rows"
      ],
      "metadata": {
        "id": "tGDOjiWTg64H"
      }
    },
    {
      "cell_type": "code",
      "source": [
        "print(\"Head:\")\n",
        "print(df1.head())"
      ],
      "metadata": {
        "colab": {
          "base_uri": "https://localhost:8080/"
        },
        "id": "gesHQV-bg9vg",
        "outputId": "70e529b1-d181-4084-95fa-7b1c83bc3def"
      },
      "execution_count": 12,
      "outputs": [
        {
          "output_type": "stream",
          "name": "stdout",
          "text": [
            "Head:\n",
            "   StudentID     Name   Age              Email\n",
            "0        101    Alice  21.0  alice@example.com\n",
            "1        102      Bob  22.0               None\n",
            "2        103  Charlie   NaN    charlie@abc.com\n",
            "3        104    David  24.0      david@xyz.com\n",
            "4        105      Eve  25.0    eve@example.com\n"
          ]
        }
      ]
    },
    {
      "cell_type": "markdown",
      "source": [
        "3.3 Info about datatypes and nulls"
      ],
      "metadata": {
        "id": "Jp6s6UVag_6_"
      }
    },
    {
      "cell_type": "code",
      "source": [
        "print(\"\\nInfo:\")\n",
        "print(df1.info())\n"
      ],
      "metadata": {
        "colab": {
          "base_uri": "https://localhost:8080/"
        },
        "id": "XI1h4mVxhCMT",
        "outputId": "30cb2491-5086-4f9b-8100-1a8218149309"
      },
      "execution_count": 13,
      "outputs": [
        {
          "output_type": "stream",
          "name": "stdout",
          "text": [
            "\n",
            "Info:\n",
            "<class 'pandas.core.frame.DataFrame'>\n",
            "RangeIndex: 5 entries, 0 to 4\n",
            "Data columns (total 4 columns):\n",
            " #   Column     Non-Null Count  Dtype  \n",
            "---  ------     --------------  -----  \n",
            " 0   StudentID  5 non-null      int64  \n",
            " 1   Name       5 non-null      object \n",
            " 2   Age        4 non-null      float64\n",
            " 3   Email      4 non-null      object \n",
            "dtypes: float64(1), int64(1), object(2)\n",
            "memory usage: 292.0+ bytes\n",
            "None\n"
          ]
        }
      ]
    },
    {
      "cell_type": "markdown",
      "source": [
        "3.4 Statistical summary"
      ],
      "metadata": {
        "id": "CL-lHjUChDuF"
      }
    },
    {
      "cell_type": "code",
      "source": [
        "print(\"\\nDescribe:\")\n",
        "print(df1.describe())"
      ],
      "metadata": {
        "colab": {
          "base_uri": "https://localhost:8080/"
        },
        "id": "2q2UUYk6hFqx",
        "outputId": "9b28a259-a18e-4c15-dcee-fd9726e1516e"
      },
      "execution_count": 14,
      "outputs": [
        {
          "output_type": "stream",
          "name": "stdout",
          "text": [
            "\n",
            "Describe:\n",
            "        StudentID        Age\n",
            "count    5.000000   4.000000\n",
            "mean   103.000000  23.000000\n",
            "std      1.581139   1.825742\n",
            "min    101.000000  21.000000\n",
            "25%    102.000000  21.750000\n",
            "50%    103.000000  23.000000\n",
            "75%    104.000000  24.250000\n",
            "max    105.000000  25.000000\n"
          ]
        }
      ]
    },
    {
      "cell_type": "markdown",
      "source": [
        "#4. Pandas Joins"
      ],
      "metadata": {
        "id": "eG3_2Zd-hJzr"
      }
    },
    {
      "cell_type": "markdown",
      "source": [
        "4.1 Inner Join (Only matching StudentIDs)"
      ],
      "metadata": {
        "id": "bN1j0LZNhON8"
      }
    },
    {
      "cell_type": "code",
      "source": [
        "inner_join = pd.merge(df1, df2, on='StudentID', how='inner')\n",
        "print(\"Inner Join:\\n\", inner_join)\n"
      ],
      "metadata": {
        "colab": {
          "base_uri": "https://localhost:8080/"
        },
        "id": "A44IbIa4hRY7",
        "outputId": "7455ac3f-e531-4101-e88a-a3f5b4f2dbb1"
      },
      "execution_count": 15,
      "outputs": [
        {
          "output_type": "stream",
          "name": "stdout",
          "text": [
            "Inner Join:\n",
            "    StudentID     Name   Age              Email  Marks\n",
            "0        101    Alice  21.0  alice@example.com     88\n",
            "1        102      Bob  22.0               None     76\n",
            "2        103  Charlie   NaN    charlie@abc.com     90\n"
          ]
        }
      ]
    },
    {
      "cell_type": "markdown",
      "source": [
        "4.2 Left Join (All from df1, matching from df2)"
      ],
      "metadata": {
        "id": "EmoUTsZJhTMZ"
      }
    },
    {
      "cell_type": "code",
      "source": [
        "left_join = pd.merge(df1, df2, on='StudentID', how='left')\n",
        "print(\"Left Join:\\n\", left_join)\n"
      ],
      "metadata": {
        "colab": {
          "base_uri": "https://localhost:8080/"
        },
        "id": "dE0T9gWuhXfo",
        "outputId": "97c18cf4-e5bf-42aa-929e-34fca1cd99d4"
      },
      "execution_count": 16,
      "outputs": [
        {
          "output_type": "stream",
          "name": "stdout",
          "text": [
            "Left Join:\n",
            "    StudentID     Name   Age              Email  Marks\n",
            "0        101    Alice  21.0  alice@example.com   88.0\n",
            "1        102      Bob  22.0               None   76.0\n",
            "2        103  Charlie   NaN    charlie@abc.com   90.0\n",
            "3        104    David  24.0      david@xyz.com    NaN\n",
            "4        105      Eve  25.0    eve@example.com    NaN\n"
          ]
        }
      ]
    }
  ]
}