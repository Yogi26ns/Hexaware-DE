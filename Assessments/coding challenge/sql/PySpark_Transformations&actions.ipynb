{
  "nbformat": 4,
  "nbformat_minor": 0,
  "metadata": {
    "colab": {
      "provenance": []
    },
    "kernelspec": {
      "name": "python3",
      "display_name": "Python 3"
    },
    "language_info": {
      "name": "python"
    }
  },
  "cells": [
    {
      "cell_type": "markdown",
      "source": [
        "#PySpark Coding Assessment"
      ],
      "metadata": {
        "id": "G82kY7I7mkch"
      }
    },
    {
      "cell_type": "markdown",
      "source": [
        "##Basic PySpark SetUp and Loading Data"
      ],
      "metadata": {
        "id": "s8aNyWaxn8ps"
      }
    },
    {
      "cell_type": "markdown",
      "source": [
        "Basic PySpark Set-up"
      ],
      "metadata": {
        "id": "RyUdEFEEnjhH"
      }
    },
    {
      "cell_type": "code",
      "execution_count": 5,
      "metadata": {
        "id": "8_lEQFq0mY4h"
      },
      "outputs": [],
      "source": [
        "from pyspark.sql import SparkSession\n",
        "from pyspark.sql.functions import col, count, avg, sum, row_number\n",
        "from pyspark.sql.window import Window\n",
        "\n",
        "spark = SparkSession.builder.appName(\"CodingAssessment\").getOrCreate()"
      ]
    },
    {
      "cell_type": "markdown",
      "source": [
        "Loading the CSV file"
      ],
      "metadata": {
        "id": "ULDI7pXFmlJg"
      }
    },
    {
      "cell_type": "code",
      "source": [
        "orders_df = spark.read.option(\"header\", True).csv(\"orders.csv\")\n",
        "orders_df.show()\n",
        "orders_df.printSchema()\n",
        "orders_df.createOrReplaceTempView(\"orders\")\n",
        "\n",
        "customers_df = spark.read.option(\"header\", True).csv(\"customers.csv\")\n",
        "customers_df.show()\n",
        "customers_df.printSchema()"
      ],
      "metadata": {
        "colab": {
          "base_uri": "https://localhost:8080/"
        },
        "id": "fe-hO5zzmlri",
        "outputId": "d23f9a10-16f4-4693-be72-7b5264092826"
      },
      "execution_count": 6,
      "outputs": [
        {
          "output_type": "stream",
          "name": "stdout",
          "text": [
            "+-------+----------+----------+----------+-----------+\n",
            "|cust_id|cust_fname|cust_lname|cust_order|cust_status|\n",
            "+-------+----------+----------+----------+-----------+\n",
            "|      1|      john|       doe|         5|     active|\n",
            "|      2|      jane|     smith|         8|     active|\n",
            "|      3|   micheal|   jhonson|         3|   inactive|\n",
            "|      4|      abhi|   wiliams|         1|     active|\n",
            "|      5|       ram|     brown|         4|   inactive|\n",
            "|      6|     emily|  anderson|         2|     active|\n",
            "|      7|   william|     jones|        10|     active|\n",
            "|      8|     susan|     davis|         7|   inactive|\n",
            "|      9|     david|    miller|         9|     active|\n",
            "|     10|      sara|     moore|         2|   inactive|\n",
            "|     11|     james|    tailor|         5|   inactive|\n",
            "|     12|    olivia|    wilson|         3|   inactive|\n",
            "|     13|    robert|     evans|        11|     active|\n",
            "|     14|      emma|    thomas|        29|     active|\n",
            "|     15|    mathew|     haris|         5|   inactive|\n",
            "|     16|  isabella|     white|         6|   inactive|\n",
            "|     17|    joseph|    martin|         4|   inactive|\n",
            "|     18|     grace|       lee|         5|     active|\n",
            "|     19|chrisopher|      basa|         8|   inactive|\n",
            "|     20|       ava|    joesph|         3|     active|\n",
            "+-------+----------+----------+----------+-----------+\n",
            "\n",
            "root\n",
            " |-- cust_id: string (nullable = true)\n",
            " |-- cust_fname: string (nullable = true)\n",
            " |-- cust_lname: string (nullable = true)\n",
            " |-- cust_order: string (nullable = true)\n",
            " |-- cust_status: string (nullable = true)\n",
            "\n",
            "+-------+-------------------+----------+---------+\n",
            "|cust_id|         cust_email|cust_phone|cust_city|\n",
            "+-------+-------------------+----------+---------+\n",
            "|      1|  alice@example.com|1234567890|  Chennai|\n",
            "|      2|    bob@example.com|2345678901|Bangalore|\n",
            "|      3|charlie@example.com|3456789012|Hyderabad|\n",
            "|      4|   dave@example.com|4567890123|   Mumbai|\n",
            "+-------+-------------------+----------+---------+\n",
            "\n",
            "root\n",
            " |-- cust_id: string (nullable = true)\n",
            " |-- cust_email: string (nullable = true)\n",
            " |-- cust_phone: string (nullable = true)\n",
            " |-- cust_city: string (nullable = true)\n",
            "\n"
          ]
        }
      ]
    },
    {
      "cell_type": "markdown",
      "source": [
        "##Transformations"
      ],
      "metadata": {
        "id": "L-unE4r-n3Br"
      }
    },
    {
      "cell_type": "markdown",
      "source": [
        "Filter"
      ],
      "metadata": {
        "id": "RvDWeypMm2oQ"
      }
    },
    {
      "cell_type": "code",
      "source": [
        "# Filter customers with status 'active'\n",
        "orders_df.filter(col(\"cust_status\") == \"active\").show()\n"
      ],
      "metadata": {
        "colab": {
          "base_uri": "https://localhost:8080/"
        },
        "id": "pm0_w0swm3B9",
        "outputId": "4bf7ed1f-cc6a-43f3-8fe6-73985aeeca08"
      },
      "execution_count": 7,
      "outputs": [
        {
          "output_type": "stream",
          "name": "stdout",
          "text": [
            "+-------+----------+----------+----------+-----------+\n",
            "|cust_id|cust_fname|cust_lname|cust_order|cust_status|\n",
            "+-------+----------+----------+----------+-----------+\n",
            "|      1|      john|       doe|         5|     active|\n",
            "|      2|      jane|     smith|         8|     active|\n",
            "|      4|      abhi|   wiliams|         1|     active|\n",
            "|      6|     emily|  anderson|         2|     active|\n",
            "|      7|   william|     jones|        10|     active|\n",
            "|      9|     david|    miller|         9|     active|\n",
            "|     13|    robert|     evans|        11|     active|\n",
            "|     14|      emma|    thomas|        29|     active|\n",
            "|     18|     grace|       lee|         5|     active|\n",
            "|     20|       ava|    joesph|         3|     active|\n",
            "+-------+----------+----------+----------+-----------+\n",
            "\n"
          ]
        }
      ]
    },
    {
      "cell_type": "markdown",
      "source": [
        "GroupBy and Aggregation"
      ],
      "metadata": {
        "id": "SD_Kleyqm_0C"
      }
    },
    {
      "cell_type": "code",
      "source": [
        "#1.Count\n",
        "orders_df.groupBy(\"cust_status\").agg(count(\"*\").alias(\"order_count\")).show()\n",
        "\n",
        "#2.avg\n",
        "orders_df.groupBy(\"cust_id\").agg(avg(\"cust_order\").alias(\"avg_order_value\")).show()\n",
        "\n",
        "#3.sum\n",
        "orders_df.groupBy(\"cust_id\").agg(sum(\"cust_order\").alias(\"total_order_value\")).show()\n"
      ],
      "metadata": {
        "colab": {
          "base_uri": "https://localhost:8080/"
        },
        "id": "mL8xgESCm_dz",
        "outputId": "e951716c-f7b1-4217-e290-63fdb6a7cf6e"
      },
      "execution_count": 13,
      "outputs": [
        {
          "output_type": "stream",
          "name": "stdout",
          "text": [
            "+-----------+-----------+\n",
            "|cust_status|order_count|\n",
            "+-----------+-----------+\n",
            "|     active|         10|\n",
            "|   inactive|         10|\n",
            "+-----------+-----------+\n",
            "\n",
            "+-------+---------------+\n",
            "|cust_id|avg_order_value|\n",
            "+-------+---------------+\n",
            "|      7|           10.0|\n",
            "|     15|            5.0|\n",
            "|     11|            5.0|\n",
            "|      3|            3.0|\n",
            "|      8|            7.0|\n",
            "|     16|            6.0|\n",
            "|      5|            4.0|\n",
            "|     18|            5.0|\n",
            "|     17|            4.0|\n",
            "|      6|            2.0|\n",
            "|     19|            8.0|\n",
            "|      9|            9.0|\n",
            "|      1|            5.0|\n",
            "|     20|            3.0|\n",
            "|     10|            2.0|\n",
            "|      4|            1.0|\n",
            "|     12|            3.0|\n",
            "|     13|           11.0|\n",
            "|     14|           29.0|\n",
            "|      2|            8.0|\n",
            "+-------+---------------+\n",
            "\n",
            "+-------+-----------------+\n",
            "|cust_id|total_order_value|\n",
            "+-------+-----------------+\n",
            "|      7|             10.0|\n",
            "|     15|              5.0|\n",
            "|     11|              5.0|\n",
            "|      3|              3.0|\n",
            "|      8|              7.0|\n",
            "|     16|              6.0|\n",
            "|      5|              4.0|\n",
            "|     18|              5.0|\n",
            "|     17|              4.0|\n",
            "|      6|              2.0|\n",
            "|     19|              8.0|\n",
            "|      9|              9.0|\n",
            "|      1|              5.0|\n",
            "|     20|              3.0|\n",
            "|     10|              2.0|\n",
            "|      4|              1.0|\n",
            "|     12|              3.0|\n",
            "|     13|             11.0|\n",
            "|     14|             29.0|\n",
            "|      2|              8.0|\n",
            "+-------+-----------------+\n",
            "\n"
          ]
        }
      ]
    },
    {
      "cell_type": "markdown",
      "source": [
        "Window Functions"
      ],
      "metadata": {
        "id": "xLVXYmTGnH0a"
      }
    },
    {
      "cell_type": "code",
      "source": [
        "# Row number per customer based on order (example assuming 'cust_order' is numeric)\n",
        "window_spec = Window.partitionBy(\"cust_id\").orderBy(col(\"cust_order\").desc())\n",
        "orders_df.withColumn(\"row_num\", row_number().over(window_spec)).show()\n"
      ],
      "metadata": {
        "colab": {
          "base_uri": "https://localhost:8080/"
        },
        "id": "6q5NO_sgnKpu",
        "outputId": "93db667d-e9ad-4794-ec4a-d89173f06eb6"
      },
      "execution_count": 9,
      "outputs": [
        {
          "output_type": "stream",
          "name": "stdout",
          "text": [
            "+-------+----------+----------+----------+-----------+-------+\n",
            "|cust_id|cust_fname|cust_lname|cust_order|cust_status|row_num|\n",
            "+-------+----------+----------+----------+-----------+-------+\n",
            "|      1|      john|       doe|         5|     active|      1|\n",
            "|     10|      sara|     moore|         2|   inactive|      1|\n",
            "|     11|     james|    tailor|         5|   inactive|      1|\n",
            "|     12|    olivia|    wilson|         3|   inactive|      1|\n",
            "|     13|    robert|     evans|        11|     active|      1|\n",
            "|     14|      emma|    thomas|        29|     active|      1|\n",
            "|     15|    mathew|     haris|         5|   inactive|      1|\n",
            "|     16|  isabella|     white|         6|   inactive|      1|\n",
            "|     17|    joseph|    martin|         4|   inactive|      1|\n",
            "|     18|     grace|       lee|         5|     active|      1|\n",
            "|     19|chrisopher|      basa|         8|   inactive|      1|\n",
            "|      2|      jane|     smith|         8|     active|      1|\n",
            "|     20|       ava|    joesph|         3|     active|      1|\n",
            "|      3|   micheal|   jhonson|         3|   inactive|      1|\n",
            "|      4|      abhi|   wiliams|         1|     active|      1|\n",
            "|      5|       ram|     brown|         4|   inactive|      1|\n",
            "|      6|     emily|  anderson|         2|     active|      1|\n",
            "|      7|   william|     jones|        10|     active|      1|\n",
            "|      8|     susan|     davis|         7|   inactive|      1|\n",
            "|      9|     david|    miller|         9|     active|      1|\n",
            "+-------+----------+----------+----------+-----------+-------+\n",
            "\n"
          ]
        }
      ]
    },
    {
      "cell_type": "markdown",
      "source": [
        "Joins"
      ],
      "metadata": {
        "id": "wR7-ZGlron5r"
      }
    },
    {
      "cell_type": "code",
      "source": [
        "orders_df.join(customers_df, \"cust_id\", \"inner\").show()"
      ],
      "metadata": {
        "colab": {
          "base_uri": "https://localhost:8080/"
        },
        "id": "cqo_SgXJopig",
        "outputId": "f9e47aec-2c0e-4f0d-8a0e-09a572da3070"
      },
      "execution_count": 11,
      "outputs": [
        {
          "output_type": "stream",
          "name": "stdout",
          "text": [
            "+-------+----------+----------+----------+-----------+-------------------+----------+---------+\n",
            "|cust_id|cust_fname|cust_lname|cust_order|cust_status|         cust_email|cust_phone|cust_city|\n",
            "+-------+----------+----------+----------+-----------+-------------------+----------+---------+\n",
            "|      1|      john|       doe|         5|     active|  alice@example.com|1234567890|  Chennai|\n",
            "|      2|      jane|     smith|         8|     active|    bob@example.com|2345678901|Bangalore|\n",
            "|      3|   micheal|   jhonson|         3|   inactive|charlie@example.com|3456789012|Hyderabad|\n",
            "|      4|      abhi|   wiliams|         1|     active|   dave@example.com|4567890123|   Mumbai|\n",
            "+-------+----------+----------+----------+-----------+-------------------+----------+---------+\n",
            "\n"
          ]
        }
      ]
    },
    {
      "cell_type": "markdown",
      "source": [
        "WithColumn"
      ],
      "metadata": {
        "id": "l3MoQyFzunBf"
      }
    },
    {
      "cell_type": "code",
      "source": [
        "orders_df.withColumn(\"cust_order_plus1\", col(\"cust_order\") + 1).show()"
      ],
      "metadata": {
        "id": "enGOKFkJt6pw"
      },
      "execution_count": null,
      "outputs": []
    },
    {
      "cell_type": "markdown",
      "source": [
        "Select"
      ],
      "metadata": {
        "id": "VaBZ7WmBuo2v"
      }
    },
    {
      "cell_type": "code",
      "source": [
        "orders_df.select(\"cust_id\", \"cust_fname\", \"cust_order\").show()"
      ],
      "metadata": {
        "id": "j_53JUCnt-NS"
      },
      "execution_count": null,
      "outputs": []
    },
    {
      "cell_type": "markdown",
      "source": [
        "Distinct"
      ],
      "metadata": {
        "id": "u3Ug0669uqtc"
      }
    },
    {
      "cell_type": "code",
      "source": [
        "orders_df.distinct().show()"
      ],
      "metadata": {
        "id": "USnqMJsPuCMC"
      },
      "execution_count": null,
      "outputs": []
    },
    {
      "cell_type": "markdown",
      "source": [
        "OrderBy"
      ],
      "metadata": {
        "id": "UcryXVygutKn"
      }
    },
    {
      "cell_type": "code",
      "source": [
        "orders_df.orderBy(col(\"cust_order\").desc()).show()"
      ],
      "metadata": {
        "id": "m9UN8DIRuGc9"
      },
      "execution_count": null,
      "outputs": []
    },
    {
      "cell_type": "markdown",
      "source": [
        "Limit"
      ],
      "metadata": {
        "id": "6uRFLTbDuvQZ"
      }
    },
    {
      "cell_type": "code",
      "source": [
        "orders_df.limit(3).show()"
      ],
      "metadata": {
        "id": "Zvh4FRI2uITj"
      },
      "execution_count": null,
      "outputs": []
    },
    {
      "cell_type": "markdown",
      "source": [
        "Union"
      ],
      "metadata": {
        "id": "aLpYu-kcuxJf"
      }
    },
    {
      "cell_type": "code",
      "source": [
        "extra_data = [(106, \"New\", \"User\", 4, \"ACTIVE\")]\n",
        "extra_df = spark.createDataFrame(extra_data, schema=orders_df.schema)\n",
        "\n",
        "union_df = orders_df.union(extra_df)\n",
        "union_df.show()"
      ],
      "metadata": {
        "id": "0sNYkLV2uK7N"
      },
      "execution_count": null,
      "outputs": []
    },
    {
      "cell_type": "markdown",
      "source": [
        "Drop"
      ],
      "metadata": {
        "id": "72gNITQNuyrI"
      }
    },
    {
      "cell_type": "code",
      "source": [
        "orders_df.drop(\"cust_status\").show()"
      ],
      "metadata": {
        "id": "MkG923c5uPTE"
      },
      "execution_count": null,
      "outputs": []
    },
    {
      "cell_type": "markdown",
      "source": [
        "Fillna & Dropna"
      ],
      "metadata": {
        "id": "UBYTrdx2u0R8"
      }
    },
    {
      "cell_type": "code",
      "source": [
        "# Fill null values in cust_order with 0\n",
        "orders_df.fillna({\"cust_order\": 0}).show()\n",
        "\n",
        "# Drop rows where any value is null\n",
        "orders_df.dropna().show()"
      ],
      "metadata": {
        "id": "cvbm1TcVuS4N"
      },
      "execution_count": null,
      "outputs": []
    },
    {
      "cell_type": "markdown",
      "source": [
        "##Actions"
      ],
      "metadata": {
        "id": "2X9GjNkrvI-a"
      }
    },
    {
      "cell_type": "markdown",
      "source": [
        "First"
      ],
      "metadata": {
        "id": "mi9JgtxEu5A2"
      }
    },
    {
      "cell_type": "code",
      "source": [
        "print(orders_df.first())"
      ],
      "metadata": {
        "id": "FybMYCRCuVUI"
      },
      "execution_count": null,
      "outputs": []
    },
    {
      "cell_type": "markdown",
      "source": [
        "Head(n)"
      ],
      "metadata": {
        "id": "JJv_PosXu6IA"
      }
    },
    {
      "cell_type": "code",
      "source": [
        "print(orders_df.head(3))"
      ],
      "metadata": {
        "id": "XW8nAtDruZ0z"
      },
      "execution_count": null,
      "outputs": []
    },
    {
      "cell_type": "markdown",
      "source": [
        "Take(n)"
      ],
      "metadata": {
        "id": "1gAO0t5du8Ja"
      }
    },
    {
      "cell_type": "code",
      "source": [
        "print(orders_df.take(2))"
      ],
      "metadata": {
        "id": "cTqKHsS9uie4"
      },
      "execution_count": null,
      "outputs": []
    },
    {
      "cell_type": "markdown",
      "source": [
        "Write"
      ],
      "metadata": {
        "id": "ssq7uSl0u9oy"
      }
    },
    {
      "cell_type": "code",
      "source": [
        "orders_df.write.csv(\"orders_output\", header=True)"
      ],
      "metadata": {
        "id": "dwEwaBt8ukkP"
      },
      "execution_count": null,
      "outputs": []
    }
  ]
}