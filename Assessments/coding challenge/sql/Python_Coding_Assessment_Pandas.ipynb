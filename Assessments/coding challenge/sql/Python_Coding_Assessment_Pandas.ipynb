{
  "nbformat": 4,
  "nbformat_minor": 0,
  "metadata": {
    "colab": {
      "provenance": []
    },
    "kernelspec": {
      "name": "python3",
      "display_name": "Python 3"
    },
    "language_info": {
      "name": "python"
    }
  },
  "cells": [
    {
      "cell_type": "markdown",
      "source": [
        "#1. Importing Libraries"
      ],
      "metadata": {
        "id": "QrvQwIeBgi3H"
      }
    },
    {
      "cell_type": "code",
      "execution_count": 1,
      "metadata": {
        "id": "XjRkD3ylgeJg"
      },
      "outputs": [],
      "source": [
        "import pandas as pd\n",
        "import numpy as np\n"
      ]
    },
    {
      "cell_type": "markdown",
      "source": [
        "#2. Sample Datasets"
      ],
      "metadata": {
        "id": "g7rehk_HgrRn"
      }
    },
    {
      "cell_type": "code",
      "source": [
        "# Dataset 1: Student Information\n",
        "data1 = {\n",
        "    'StudentID': [101, 102, 103, 104, 105],\n",
        "    'Name': ['Alice', 'Bob', 'Charlie', 'David', 'Eve'],\n",
        "    'Age': [21, 22, np.nan, 24, 25],\n",
        "    'Email': ['alice@example.com', None, 'charlie@abc.com', 'david@xyz.com', 'eve@example.com']\n",
        "}\n",
        "\n",
        "df1 = pd.DataFrame(data1)\n",
        "\n",
        "# Dataset 2: Marks Information\n",
        "data2 = {\n",
        "    'StudentID': [101, 102, 103, 106],\n",
        "    'Marks': [88, 76, 90, 85]\n",
        "}\n",
        "\n",
        "df2 = pd.DataFrame(data2)\n"
      ],
      "metadata": {
        "id": "6g1I298OgqgP"
      },
      "execution_count": 2,
      "outputs": []
    },
    {
      "cell_type": "markdown",
      "source": [
        "#3. Data Cleaning Examples"
      ],
      "metadata": {
        "id": "QdEpf7PUgwlw"
      }
    },
    {
      "cell_type": "markdown",
      "source": [
        "3.1 Checking for Null Values"
      ],
      "metadata": {
        "id": "N7O1pDM2g4Rk"
      }
    },
    {
      "cell_type": "code",
      "source": [
        "print(\"Null values in df1:\\n\", df1.isnull().sum())\n"
      ],
      "metadata": {
        "colab": {
          "base_uri": "https://localhost:8080/"
        },
        "id": "YiHEvi8Tg2R6",
        "outputId": "b2c9dbbf-ab76-4859-e1f7-ce1a87cd3ced"
      },
      "execution_count": 3,
      "outputs": [
        {
          "output_type": "stream",
          "name": "stdout",
          "text": [
            "Null values in df1:\n",
            " StudentID    0\n",
            "Name         0\n",
            "Age          1\n",
            "Email        1\n",
            "dtype: int64\n"
          ]
        }
      ]
    },
    {
      "cell_type": "markdown",
      "source": [
        "3.2 Fill Missing Age with Mean"
      ],
      "metadata": {
        "id": "tGDOjiWTg64H"
      }
    },
    {
      "cell_type": "code",
      "source": [
        "df1['Age'].fillna(df1['Age'].mean(), inplace=True)\n"
      ],
      "metadata": {
        "colab": {
          "base_uri": "https://localhost:8080/"
        },
        "id": "gesHQV-bg9vg",
        "outputId": "6eaf57fe-31a2-43f6-9a8a-cd55720331c6"
      },
      "execution_count": 4,
      "outputs": [
        {
          "output_type": "stream",
          "name": "stderr",
          "text": [
            "/tmp/ipython-input-4-1788173355.py:1: FutureWarning: A value is trying to be set on a copy of a DataFrame or Series through chained assignment using an inplace method.\n",
            "The behavior will change in pandas 3.0. This inplace method will never work because the intermediate object on which we are setting values always behaves as a copy.\n",
            "\n",
            "For example, when doing 'df[col].method(value, inplace=True)', try using 'df.method({col: value}, inplace=True)' or df[col] = df[col].method(value) instead, to perform the operation inplace on the original object.\n",
            "\n",
            "\n",
            "  df1['Age'].fillna(df1['Age'].mean(), inplace=True)\n"
          ]
        }
      ]
    },
    {
      "cell_type": "markdown",
      "source": [
        "3.3 Drop Rows with Missing Email"
      ],
      "metadata": {
        "id": "Jp6s6UVag_6_"
      }
    },
    {
      "cell_type": "code",
      "source": [
        "df1.dropna(subset=['Email'], inplace=True)\n"
      ],
      "metadata": {
        "id": "XI1h4mVxhCMT"
      },
      "execution_count": 5,
      "outputs": []
    },
    {
      "cell_type": "markdown",
      "source": [
        " Remove Duplicates (if any)"
      ],
      "metadata": {
        "id": "CL-lHjUChDuF"
      }
    },
    {
      "cell_type": "code",
      "source": [
        "df1.drop_duplicates(inplace=True)\n"
      ],
      "metadata": {
        "id": "2q2UUYk6hFqx"
      },
      "execution_count": 6,
      "outputs": []
    },
    {
      "cell_type": "markdown",
      "source": [
        "#4. Pandas Joins"
      ],
      "metadata": {
        "id": "eG3_2Zd-hJzr"
      }
    },
    {
      "cell_type": "markdown",
      "source": [
        "4.1 Inner Join (Only matching StudentIDs)"
      ],
      "metadata": {
        "id": "bN1j0LZNhON8"
      }
    },
    {
      "cell_type": "code",
      "source": [
        "inner_join = pd.merge(df1, df2, on='StudentID', how='inner')\n",
        "print(\"Inner Join:\\n\", inner_join)\n"
      ],
      "metadata": {
        "colab": {
          "base_uri": "https://localhost:8080/"
        },
        "id": "A44IbIa4hRY7",
        "outputId": "e7fab296-15ff-4757-8b73-58262f5d8dbe"
      },
      "execution_count": 7,
      "outputs": [
        {
          "output_type": "stream",
          "name": "stdout",
          "text": [
            "Inner Join:\n",
            "    StudentID     Name   Age              Email  Marks\n",
            "0        101    Alice  21.0  alice@example.com     88\n",
            "1        103  Charlie  23.0    charlie@abc.com     90\n"
          ]
        }
      ]
    },
    {
      "cell_type": "markdown",
      "source": [
        "4.2 Left Join (All from df1, matching from df2)"
      ],
      "metadata": {
        "id": "EmoUTsZJhTMZ"
      }
    },
    {
      "cell_type": "code",
      "source": [
        "left_join = pd.merge(df1, df2, on='StudentID', how='left')\n",
        "print(\"Left Join:\\n\", left_join)\n"
      ],
      "metadata": {
        "colab": {
          "base_uri": "https://localhost:8080/"
        },
        "id": "dE0T9gWuhXfo",
        "outputId": "c7e3dd8d-6525-42d7-c05f-9b019f80f5d0"
      },
      "execution_count": 8,
      "outputs": [
        {
          "output_type": "stream",
          "name": "stdout",
          "text": [
            "Left Join:\n",
            "    StudentID     Name   Age              Email  Marks\n",
            "0        101    Alice  21.0  alice@example.com   88.0\n",
            "1        103  Charlie  23.0    charlie@abc.com   90.0\n",
            "2        104    David  24.0      david@xyz.com    NaN\n",
            "3        105      Eve  25.0    eve@example.com    NaN\n"
          ]
        }
      ]
    }
  ]
}